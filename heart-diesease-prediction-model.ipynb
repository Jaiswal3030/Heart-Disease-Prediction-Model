{
 "cells": [
  {
   "cell_type": "code",
   "execution_count": null,
   "id": "4c5c5976",
   "metadata": {
    "execution": {
     "iopub.execute_input": "2024-11-06T18:55:11.345097Z",
     "iopub.status.busy": "2024-11-06T18:55:11.344523Z",
     "iopub.status.idle": "2024-11-06T18:55:11.367936Z",
     "shell.execute_reply": "2024-11-06T18:55:11.366617Z"
    },
    "papermill": {
     "duration": 0.032253,
     "end_time": "2024-11-06T18:55:11.370737",
     "exception": false,
     "start_time": "2024-11-06T18:55:11.338484",
     "status": "completed"
    },
    "tags": []
   },
   "outputs": [],
   "source": [
    "try:\n",
    "    raw_df = pd.read_csv('../heart-failure-prediction/heart.csv')\n",
    "except:\n",
    "    raw_df = pd.read_csv('heart.csv')\n",
    "\n"
   ]
  },
  {
   "cell_type": "code",
   "execution_count": 4,
   "id": "7ae768a6",
   "metadata": {
    "execution": {
     "iopub.execute_input": "2024-11-06T18:55:11.427269Z",
     "iopub.status.busy": "2024-11-06T18:55:11.426854Z",
     "iopub.status.idle": "2024-11-06T18:55:11.432441Z",
     "shell.execute_reply": "2024-11-06T18:55:11.431488Z"
    },
    "papermill": {
     "duration": 0.014578,
     "end_time": "2024-11-06T18:55:11.434955",
     "exception": false,
     "start_time": "2024-11-06T18:55:11.420377",
     "status": "completed"
    },
    "tags": []
   },
   "outputs": [],
   "source": [
    "df = raw_df"
   ]
  },
  {
   "cell_type": "code",
   "execution_count": 5,
   "id": "2a0a45d1",
   "metadata": {
    "execution": {
     "iopub.execute_input": "2024-11-06T18:55:11.446808Z",
     "iopub.status.busy": "2024-11-06T18:55:11.446420Z",
     "iopub.status.idle": "2024-11-06T18:55:11.484597Z",
     "shell.execute_reply": "2024-11-06T18:55:11.483415Z"
    },
    "papermill": {
     "duration": 0.047742,
     "end_time": "2024-11-06T18:55:11.487821",
     "exception": false,
     "start_time": "2024-11-06T18:55:11.440079",
     "status": "completed"
    },
    "tags": []
   },
   "outputs": [
    {
     "data": {
      "text/html": [
       "<div>\n",
       "<style scoped>\n",
       "    .dataframe tbody tr th:only-of-type {\n",
       "        vertical-align: middle;\n",
       "    }\n",
       "\n",
       "    .dataframe tbody tr th {\n",
       "        vertical-align: top;\n",
       "    }\n",
       "\n",
       "    .dataframe thead th {\n",
       "        text-align: right;\n",
       "    }\n",
       "</style>\n",
       "<table border=\"1\" class=\"dataframe\">\n",
       "  <thead>\n",
       "    <tr style=\"text-align: right;\">\n",
       "      <th></th>\n",
       "      <th>Age</th>\n",
       "      <th>RestingBP</th>\n",
       "      <th>Cholesterol</th>\n",
       "      <th>FastingBS</th>\n",
       "      <th>MaxHR</th>\n",
       "      <th>Oldpeak</th>\n",
       "      <th>HeartDisease</th>\n",
       "    </tr>\n",
       "  </thead>\n",
       "  <tbody>\n",
       "    <tr>\n",
       "      <th>count</th>\n",
       "      <td>918.000000</td>\n",
       "      <td>918.000000</td>\n",
       "      <td>918.000000</td>\n",
       "      <td>918.000000</td>\n",
       "      <td>918.000000</td>\n",
       "      <td>918.000000</td>\n",
       "      <td>918.000000</td>\n",
       "    </tr>\n",
       "    <tr>\n",
       "      <th>mean</th>\n",
       "      <td>53.510893</td>\n",
       "      <td>132.396514</td>\n",
       "      <td>198.799564</td>\n",
       "      <td>0.233115</td>\n",
       "      <td>136.809368</td>\n",
       "      <td>0.887364</td>\n",
       "      <td>0.553377</td>\n",
       "    </tr>\n",
       "    <tr>\n",
       "      <th>std</th>\n",
       "      <td>9.432617</td>\n",
       "      <td>18.514154</td>\n",
       "      <td>109.384145</td>\n",
       "      <td>0.423046</td>\n",
       "      <td>25.460334</td>\n",
       "      <td>1.066570</td>\n",
       "      <td>0.497414</td>\n",
       "    </tr>\n",
       "    <tr>\n",
       "      <th>min</th>\n",
       "      <td>28.000000</td>\n",
       "      <td>0.000000</td>\n",
       "      <td>0.000000</td>\n",
       "      <td>0.000000</td>\n",
       "      <td>60.000000</td>\n",
       "      <td>-2.600000</td>\n",
       "      <td>0.000000</td>\n",
       "    </tr>\n",
       "    <tr>\n",
       "      <th>25%</th>\n",
       "      <td>47.000000</td>\n",
       "      <td>120.000000</td>\n",
       "      <td>173.250000</td>\n",
       "      <td>0.000000</td>\n",
       "      <td>120.000000</td>\n",
       "      <td>0.000000</td>\n",
       "      <td>0.000000</td>\n",
       "    </tr>\n",
       "    <tr>\n",
       "      <th>50%</th>\n",
       "      <td>54.000000</td>\n",
       "      <td>130.000000</td>\n",
       "      <td>223.000000</td>\n",
       "      <td>0.000000</td>\n",
       "      <td>138.000000</td>\n",
       "      <td>0.600000</td>\n",
       "      <td>1.000000</td>\n",
       "    </tr>\n",
       "    <tr>\n",
       "      <th>75%</th>\n",
       "      <td>60.000000</td>\n",
       "      <td>140.000000</td>\n",
       "      <td>267.000000</td>\n",
       "      <td>0.000000</td>\n",
       "      <td>156.000000</td>\n",
       "      <td>1.500000</td>\n",
       "      <td>1.000000</td>\n",
       "    </tr>\n",
       "    <tr>\n",
       "      <th>max</th>\n",
       "      <td>77.000000</td>\n",
       "      <td>200.000000</td>\n",
       "      <td>603.000000</td>\n",
       "      <td>1.000000</td>\n",
       "      <td>202.000000</td>\n",
       "      <td>6.200000</td>\n",
       "      <td>1.000000</td>\n",
       "    </tr>\n",
       "  </tbody>\n",
       "</table>\n",
       "</div>"
      ],
      "text/plain": [
       "              Age   RestingBP  Cholesterol   FastingBS       MaxHR  \\\n",
       "count  918.000000  918.000000   918.000000  918.000000  918.000000   \n",
       "mean    53.510893  132.396514   198.799564    0.233115  136.809368   \n",
       "std      9.432617   18.514154   109.384145    0.423046   25.460334   \n",
       "min     28.000000    0.000000     0.000000    0.000000   60.000000   \n",
       "25%     47.000000  120.000000   173.250000    0.000000  120.000000   \n",
       "50%     54.000000  130.000000   223.000000    0.000000  138.000000   \n",
       "75%     60.000000  140.000000   267.000000    0.000000  156.000000   \n",
       "max     77.000000  200.000000   603.000000    1.000000  202.000000   \n",
       "\n",
       "          Oldpeak  HeartDisease  \n",
       "count  918.000000    918.000000  \n",
       "mean     0.887364      0.553377  \n",
       "std      1.066570      0.497414  \n",
       "min     -2.600000      0.000000  \n",
       "25%      0.000000      0.000000  \n",
       "50%      0.600000      1.000000  \n",
       "75%      1.500000      1.000000  \n",
       "max      6.200000      1.000000  "
      ]
     },
     "execution_count": 5,
     "metadata": {},
     "output_type": "execute_result"
    }
   ],
   "source": [
    "df.describe()"
   ]
  },
  {
   "cell_type": "code",
   "execution_count": 6,
   "id": "2234dadd",
   "metadata": {
    "execution": {
     "iopub.execute_input": "2024-11-06T18:55:11.501035Z",
     "iopub.status.busy": "2024-11-06T18:55:11.500586Z",
     "iopub.status.idle": "2024-11-06T18:55:11.527990Z",
     "shell.execute_reply": "2024-11-06T18:55:11.526759Z"
    },
    "papermill": {
     "duration": 0.037409,
     "end_time": "2024-11-06T18:55:11.530978",
     "exception": false,
     "start_time": "2024-11-06T18:55:11.493569",
     "status": "completed"
    },
    "tags": []
   },
   "outputs": [
    {
     "name": "stdout",
     "output_type": "stream",
     "text": [
      "<class 'pandas.core.frame.DataFrame'>\n",
      "RangeIndex: 918 entries, 0 to 917\n",
      "Data columns (total 12 columns):\n",
      " #   Column          Non-Null Count  Dtype  \n",
      "---  ------          --------------  -----  \n",
      " 0   Age             918 non-null    int64  \n",
      " 1   Sex             918 non-null    object \n",
      " 2   ChestPainType   918 non-null    object \n",
      " 3   RestingBP       918 non-null    int64  \n",
      " 4   Cholesterol     918 non-null    int64  \n",
      " 5   FastingBS       918 non-null    int64  \n",
      " 6   RestingECG      918 non-null    object \n",
      " 7   MaxHR           918 non-null    int64  \n",
      " 8   ExerciseAngina  918 non-null    object \n",
      " 9   Oldpeak         918 non-null    float64\n",
      " 10  ST_Slope        918 non-null    object \n",
      " 11  HeartDisease    918 non-null    int64  \n",
      "dtypes: float64(1), int64(6), object(5)\n",
      "memory usage: 86.2+ KB\n"
     ]
    }
   ],
   "source": [
    "df.info()"
   ]
  },
  {
   "cell_type": "code",
   "execution_count": null,
   "id": "32f2ef33",
   "metadata": {
    "execution": {
     "iopub.execute_input": "2024-11-06T18:55:11.544159Z",
     "iopub.status.busy": "2024-11-06T18:55:11.543754Z",
     "iopub.status.idle": "2024-11-06T18:55:12.719352Z",
     "shell.execute_reply": "2024-11-06T18:55:12.718036Z"
    },
    "papermill": {
     "duration": 1.185012,
     "end_time": "2024-11-06T18:55:12.721922",
     "exception": false,
     "start_time": "2024-11-06T18:55:11.536910",
     "status": "completed"
    },
    "tags": []
   },
   "outputs": [
    {
     "data": {
      "text/html": [
       "<div>\n",
       "<style scoped>\n",
       "    .dataframe tbody tr th:only-of-type {\n",
       "        vertical-align: middle;\n",
       "    }\n",
       "\n",
       "    .dataframe tbody tr th {\n",
       "        vertical-align: top;\n",
       "    }\n",
       "\n",
       "    .dataframe thead th {\n",
       "        text-align: right;\n",
       "    }\n",
       "</style>\n",
       "<table border=\"1\" class=\"dataframe\">\n",
       "  <thead>\n",
       "    <tr style=\"text-align: right;\">\n",
       "      <th></th>\n",
       "      <th>Age</th>\n",
       "      <th>Sex</th>\n",
       "      <th>ChestPainType</th>\n",
       "      <th>RestingBP</th>\n",
       "      <th>Cholesterol</th>\n",
       "      <th>FastingBS</th>\n",
       "      <th>RestingECG</th>\n",
       "      <th>MaxHR</th>\n",
       "      <th>ExerciseAngina</th>\n",
       "      <th>Oldpeak</th>\n",
       "      <th>ST_Slope</th>\n",
       "      <th>HeartDisease</th>\n",
       "    </tr>\n",
       "  </thead>\n",
       "  <tbody>\n",
       "    <tr>\n",
       "      <th>0</th>\n",
       "      <td>40</td>\n",
       "      <td>M</td>\n",
       "      <td>ATA</td>\n",
       "      <td>140</td>\n",
       "      <td>289</td>\n",
       "      <td>0</td>\n",
       "      <td>Normal</td>\n",
       "      <td>172</td>\n",
       "      <td>N</td>\n",
       "      <td>0.0</td>\n",
       "      <td>Up</td>\n",
       "      <td>0</td>\n",
       "    </tr>\n",
       "    <tr>\n",
       "      <th>1</th>\n",
       "      <td>49</td>\n",
       "      <td>F</td>\n",
       "      <td>NAP</td>\n",
       "      <td>160</td>\n",
       "      <td>180</td>\n",
       "      <td>0</td>\n",
       "      <td>Normal</td>\n",
       "      <td>156</td>\n",
       "      <td>N</td>\n",
       "      <td>1.0</td>\n",
       "      <td>Flat</td>\n",
       "      <td>1</td>\n",
       "    </tr>\n",
       "    <tr>\n",
       "      <th>2</th>\n",
       "      <td>37</td>\n",
       "      <td>M</td>\n",
       "      <td>ATA</td>\n",
       "      <td>130</td>\n",
       "      <td>283</td>\n",
       "      <td>0</td>\n",
       "      <td>ST</td>\n",
       "      <td>98</td>\n",
       "      <td>N</td>\n",
       "      <td>0.0</td>\n",
       "      <td>Up</td>\n",
       "      <td>0</td>\n",
       "    </tr>\n",
       "    <tr>\n",
       "      <th>3</th>\n",
       "      <td>48</td>\n",
       "      <td>F</td>\n",
       "      <td>ASY</td>\n",
       "      <td>138</td>\n",
       "      <td>214</td>\n",
       "      <td>0</td>\n",
       "      <td>Normal</td>\n",
       "      <td>108</td>\n",
       "      <td>Y</td>\n",
       "      <td>1.5</td>\n",
       "      <td>Flat</td>\n",
       "      <td>1</td>\n",
       "    </tr>\n",
       "    <tr>\n",
       "      <th>4</th>\n",
       "      <td>54</td>\n",
       "      <td>M</td>\n",
       "      <td>NAP</td>\n",
       "      <td>150</td>\n",
       "      <td>195</td>\n",
       "      <td>0</td>\n",
       "      <td>Normal</td>\n",
       "      <td>122</td>\n",
       "      <td>N</td>\n",
       "      <td>0.0</td>\n",
       "      <td>Up</td>\n",
       "      <td>0</td>\n",
       "    </tr>\n",
       "  </tbody>\n",
       "</table>\n",
       "</div>"
      ],
      "text/plain": [
       "   Age Sex ChestPainType  RestingBP  Cholesterol  FastingBS RestingECG  MaxHR  \\\n",
       "0   40   M           ATA        140          289          0     Normal    172   \n",
       "1   49   F           NAP        160          180          0     Normal    156   \n",
       "2   37   M           ATA        130          283          0         ST     98   \n",
       "3   48   F           ASY        138          214          0     Normal    108   \n",
       "4   54   M           NAP        150          195          0     Normal    122   \n",
       "\n",
       "  ExerciseAngina  Oldpeak ST_Slope  HeartDisease  \n",
       "0              N      0.0       Up             0  \n",
       "1              N      1.0     Flat             1  \n",
       "2              N      0.0       Up             0  \n",
       "3              Y      1.5     Flat             1  \n",
       "4              N      0.0       Up             0  "
      ]
     },
     "execution_count": 7,
     "metadata": {},
     "output_type": "execute_result"
    }
   ],
   "source": [
    "\n",
    "from scipy.stats import zscore\n",
    "numeric = df.select_dtypes(include=['number']).columns\n",
    "zscore = df[numeric].apply(zscore)\n",
    "no_out = df[(zscore < 3).all(axis=1) & (zscore > -3).all(axis=1)]\n",
    "df = no_out\n",
    "df.head()"
   ]
  },
  {
   "cell_type": "code",
   "execution_count": null,
   "id": "0bf51a60",
   "metadata": {
    "execution": {
     "iopub.execute_input": "2024-11-06T18:55:12.736510Z",
     "iopub.status.busy": "2024-11-06T18:55:12.735909Z",
     "iopub.status.idle": "2024-11-06T18:55:12.747646Z",
     "shell.execute_reply": "2024-11-06T18:55:12.746082Z"
    },
    "papermill": {
     "duration": 0.022916,
     "end_time": "2024-11-06T18:55:12.750460",
     "exception": false,
     "start_time": "2024-11-06T18:55:12.727544",
     "status": "completed"
    },
    "tags": []
   },
   "outputs": [
    {
     "data": {
      "text/plain": [
       "['Sex', 'ChestPainType', 'RestingECG', 'ExerciseAngina', 'ST_Slope']"
      ]
     },
     "execution_count": 8,
     "metadata": {},
     "output_type": "execute_result"
    }
   ],
   "source": [
    "\n",
    "cat = []\n",
    "cat_col = df.select_dtypes(include=['object']).columns\n",
    "for col in cat_col:\n",
    "  cat.append(col)\n",
    "cat"
   ]
  },
  {
   "cell_type": "code",
   "execution_count": 9,
   "id": "cbccdcc3",
   "metadata": {
    "execution": {
     "iopub.execute_input": "2024-11-06T18:55:12.764063Z",
     "iopub.status.busy": "2024-11-06T18:55:12.763645Z",
     "iopub.status.idle": "2024-11-06T18:55:12.771460Z",
     "shell.execute_reply": "2024-11-06T18:55:12.770071Z"
    },
    "papermill": {
     "duration": 0.017438,
     "end_time": "2024-11-06T18:55:12.773852",
     "exception": false,
     "start_time": "2024-11-06T18:55:12.756414",
     "status": "completed"
    },
    "tags": []
   },
   "outputs": [
    {
     "name": "stdout",
     "output_type": "stream",
     "text": [
      "Sex --> ['M' 'F']\n",
      "ChestPainType --> ['ATA' 'NAP' 'ASY' 'TA']\n",
      "RestingECG --> ['Normal' 'ST' 'LVH']\n",
      "ExerciseAngina --> ['N' 'Y']\n",
      "ST_Slope --> ['Up' 'Flat' 'Down']\n"
     ]
    }
   ],
   "source": [
    "for i in cat:\n",
    "    print(f\"{i} --> {df[i].unique()}\")"
   ]
  },
  {
   "cell_type": "code",
   "execution_count": 10,
   "id": "96e28b76",
   "metadata": {
    "execution": {
     "iopub.execute_input": "2024-11-06T18:55:12.787983Z",
     "iopub.status.busy": "2024-11-06T18:55:12.786975Z",
     "iopub.status.idle": "2024-11-06T18:55:13.009623Z",
     "shell.execute_reply": "2024-11-06T18:55:13.007960Z"
    },
    "papermill": {
     "duration": 0.232894,
     "end_time": "2024-11-06T18:55:13.012808",
     "exception": false,
     "start_time": "2024-11-06T18:55:12.779914",
     "status": "completed"
    },
    "tags": []
   },
   "outputs": [
    {
     "name": "stderr",
     "output_type": "stream",
     "text": [
      "/tmp/ipykernel_17/1284057579.py:14: SettingWithCopyWarning: \n",
      "A value is trying to be set on a copy of a slice from a DataFrame.\n",
      "Try using .loc[row_indexer,col_indexer] = value instead\n",
      "\n",
      "See the caveats in the documentation: https://pandas.pydata.org/pandas-docs/stable/user_guide/indexing.html#returning-a-view-versus-a-copy\n",
      "  df[j] = encoder.fit_transform(df[[j]])\n",
      "/tmp/ipykernel_17/1284057579.py:14: SettingWithCopyWarning: \n",
      "A value is trying to be set on a copy of a slice from a DataFrame.\n",
      "Try using .loc[row_indexer,col_indexer] = value instead\n",
      "\n",
      "See the caveats in the documentation: https://pandas.pydata.org/pandas-docs/stable/user_guide/indexing.html#returning-a-view-versus-a-copy\n",
      "  df[j] = encoder.fit_transform(df[[j]])\n",
      "/tmp/ipykernel_17/1284057579.py:14: SettingWithCopyWarning: \n",
      "A value is trying to be set on a copy of a slice from a DataFrame.\n",
      "Try using .loc[row_indexer,col_indexer] = value instead\n",
      "\n",
      "See the caveats in the documentation: https://pandas.pydata.org/pandas-docs/stable/user_guide/indexing.html#returning-a-view-versus-a-copy\n",
      "  df[j] = encoder.fit_transform(df[[j]])\n",
      "/tmp/ipykernel_17/1284057579.py:20: SettingWithCopyWarning: \n",
      "A value is trying to be set on a copy of a slice from a DataFrame.\n",
      "Try using .loc[row_indexer,col_indexer] = value instead\n",
      "\n",
      "See the caveats in the documentation: https://pandas.pydata.org/pandas-docs/stable/user_guide/indexing.html#returning-a-view-versus-a-copy\n",
      "  df[j] = encoder.fit_transform(df[j])\n",
      "/tmp/ipykernel_17/1284057579.py:20: SettingWithCopyWarning: \n",
      "A value is trying to be set on a copy of a slice from a DataFrame.\n",
      "Try using .loc[row_indexer,col_indexer] = value instead\n",
      "\n",
      "See the caveats in the documentation: https://pandas.pydata.org/pandas-docs/stable/user_guide/indexing.html#returning-a-view-versus-a-copy\n",
      "  df[j] = encoder.fit_transform(df[j])\n"
     ]
    },
    {
     "data": {
      "text/html": [
       "<div>\n",
       "<style scoped>\n",
       "    .dataframe tbody tr th:only-of-type {\n",
       "        vertical-align: middle;\n",
       "    }\n",
       "\n",
       "    .dataframe tbody tr th {\n",
       "        vertical-align: top;\n",
       "    }\n",
       "\n",
       "    .dataframe thead th {\n",
       "        text-align: right;\n",
       "    }\n",
       "</style>\n",
       "<table border=\"1\" class=\"dataframe\">\n",
       "  <thead>\n",
       "    <tr style=\"text-align: right;\">\n",
       "      <th></th>\n",
       "      <th>Age</th>\n",
       "      <th>Sex</th>\n",
       "      <th>ChestPainType</th>\n",
       "      <th>RestingBP</th>\n",
       "      <th>Cholesterol</th>\n",
       "      <th>FastingBS</th>\n",
       "      <th>RestingECG</th>\n",
       "      <th>MaxHR</th>\n",
       "      <th>ExerciseAngina</th>\n",
       "      <th>Oldpeak</th>\n",
       "      <th>ST_Slope</th>\n",
       "      <th>HeartDisease</th>\n",
       "    </tr>\n",
       "  </thead>\n",
       "  <tbody>\n",
       "    <tr>\n",
       "      <th>0</th>\n",
       "      <td>40</td>\n",
       "      <td>1</td>\n",
       "      <td>0.0</td>\n",
       "      <td>140</td>\n",
       "      <td>289</td>\n",
       "      <td>0</td>\n",
       "      <td>0.0</td>\n",
       "      <td>172</td>\n",
       "      <td>0</td>\n",
       "      <td>0.0</td>\n",
       "      <td>0.0</td>\n",
       "      <td>0</td>\n",
       "    </tr>\n",
       "    <tr>\n",
       "      <th>1</th>\n",
       "      <td>49</td>\n",
       "      <td>0</td>\n",
       "      <td>1.0</td>\n",
       "      <td>160</td>\n",
       "      <td>180</td>\n",
       "      <td>0</td>\n",
       "      <td>0.0</td>\n",
       "      <td>156</td>\n",
       "      <td>0</td>\n",
       "      <td>1.0</td>\n",
       "      <td>1.0</td>\n",
       "      <td>1</td>\n",
       "    </tr>\n",
       "    <tr>\n",
       "      <th>2</th>\n",
       "      <td>37</td>\n",
       "      <td>1</td>\n",
       "      <td>0.0</td>\n",
       "      <td>130</td>\n",
       "      <td>283</td>\n",
       "      <td>0</td>\n",
       "      <td>1.0</td>\n",
       "      <td>98</td>\n",
       "      <td>0</td>\n",
       "      <td>0.0</td>\n",
       "      <td>0.0</td>\n",
       "      <td>0</td>\n",
       "    </tr>\n",
       "    <tr>\n",
       "      <th>3</th>\n",
       "      <td>48</td>\n",
       "      <td>0</td>\n",
       "      <td>2.0</td>\n",
       "      <td>138</td>\n",
       "      <td>214</td>\n",
       "      <td>0</td>\n",
       "      <td>0.0</td>\n",
       "      <td>108</td>\n",
       "      <td>1</td>\n",
       "      <td>1.5</td>\n",
       "      <td>1.0</td>\n",
       "      <td>1</td>\n",
       "    </tr>\n",
       "    <tr>\n",
       "      <th>4</th>\n",
       "      <td>54</td>\n",
       "      <td>1</td>\n",
       "      <td>1.0</td>\n",
       "      <td>150</td>\n",
       "      <td>195</td>\n",
       "      <td>0</td>\n",
       "      <td>0.0</td>\n",
       "      <td>122</td>\n",
       "      <td>0</td>\n",
       "      <td>0.0</td>\n",
       "      <td>0.0</td>\n",
       "      <td>0</td>\n",
       "    </tr>\n",
       "  </tbody>\n",
       "</table>\n",
       "</div>"
      ],
      "text/plain": [
       "   Age  Sex  ChestPainType  RestingBP  Cholesterol  FastingBS  RestingECG  \\\n",
       "0   40    1            0.0        140          289          0         0.0   \n",
       "1   49    0            1.0        160          180          0         0.0   \n",
       "2   37    1            0.0        130          283          0         1.0   \n",
       "3   48    0            2.0        138          214          0         0.0   \n",
       "4   54    1            1.0        150          195          0         0.0   \n",
       "\n",
       "   MaxHR  ExerciseAngina  Oldpeak  ST_Slope  HeartDisease  \n",
       "0    172               0      0.0       0.0             0  \n",
       "1    156               0      1.0       1.0             1  \n",
       "2     98               0      0.0       0.0             0  \n",
       "3    108               1      1.5       1.0             1  \n",
       "4    122               0      0.0       0.0             0  "
      ]
     },
     "execution_count": 10,
     "metadata": {},
     "output_type": "execute_result"
    }
   ],
   "source": [
    "from sklearn.preprocessing import LabelEncoder,OrdinalEncoder\n",
    "\n",
    "ordinal = []\n",
    "nominal = ['Sex','ExerciseAngina']\n",
    "for i in cat:\n",
    "    if i not in nominal:\n",
    "        ordinal.append(i)\n",
    "cat_data = {'ord':ordinal,'nom':nominal}\n",
    "for i in cat_data:\n",
    "    if i=='ord':\n",
    "        x = cat_data['ord']\n",
    "        for j in x:\n",
    "            encoder = OrdinalEncoder(categories=[df[j].unique()])\n",
    "            df[j] = encoder.fit_transform(df[[j]])\n",
    "            \n",
    "    else:\n",
    "        x = cat_data['nom']\n",
    "        for j in x:\n",
    "            encoder = LabelEncoder()\n",
    "            df[j] = encoder.fit_transform(df[j])\n",
    "df.head()"
   ]
  },
  {
   "cell_type": "code",
   "execution_count": 11,
   "id": "72ef6136",
   "metadata": {
    "execution": {
     "iopub.execute_input": "2024-11-06T18:55:13.027232Z",
     "iopub.status.busy": "2024-11-06T18:55:13.026278Z",
     "iopub.status.idle": "2024-11-06T18:55:13.035424Z",
     "shell.execute_reply": "2024-11-06T18:55:13.034074Z"
    },
    "papermill": {
     "duration": 0.018905,
     "end_time": "2024-11-06T18:55:13.037820",
     "exception": false,
     "start_time": "2024-11-06T18:55:13.018915",
     "status": "completed"
    },
    "tags": []
   },
   "outputs": [
    {
     "data": {
      "text/plain": [
       "array([[40. ,  1. ,  0. , ...,  0. ,  0. ,  0. ],\n",
       "       [49. ,  0. ,  1. , ...,  1. ,  1. ,  1. ],\n",
       "       [37. ,  1. ,  0. , ...,  0. ,  0. ,  0. ],\n",
       "       ...,\n",
       "       [57. ,  1. ,  2. , ...,  1.2,  1. ,  1. ],\n",
       "       [57. ,  0. ,  0. , ...,  0. ,  1. ,  1. ],\n",
       "       [38. ,  1. ,  1. , ...,  0. ,  0. ,  0. ]])"
      ]
     },
     "execution_count": 11,
     "metadata": {},
     "output_type": "execute_result"
    }
   ],
   "source": [
    "arr = df.values\n",
    "arr"
   ]
  },
  {
   "cell_type": "code",
   "execution_count": 12,
   "id": "e622355d",
   "metadata": {
    "execution": {
     "iopub.execute_input": "2024-11-06T18:55:13.052425Z",
     "iopub.status.busy": "2024-11-06T18:55:13.051710Z",
     "iopub.status.idle": "2024-11-06T18:55:13.063386Z",
     "shell.execute_reply": "2024-11-06T18:55:13.062287Z"
    },
    "papermill": {
     "duration": 0.021722,
     "end_time": "2024-11-06T18:55:13.065891",
     "exception": false,
     "start_time": "2024-11-06T18:55:13.044169",
     "status": "completed"
    },
    "tags": []
   },
   "outputs": [
    {
     "data": {
      "text/plain": [
       "(array([[40,  1,  0, ...,  0,  0,  0],\n",
       "        [49,  0,  1, ...,  0,  1,  1],\n",
       "        [37,  1,  0, ...,  0,  0,  0],\n",
       "        ...,\n",
       "        [57,  1,  2, ...,  1,  1,  1],\n",
       "        [57,  0,  0, ...,  0,  0,  1],\n",
       "        [38,  1,  1, ...,  0,  0,  0]]),\n",
       " array([0, 1, 0, 1, 0, 0, 0, 0, 1, 0, 0, 1, 0, 1, 0, 0, 1, 0, 1, 1, 0, 0,\n",
       "        0, 1, 0, 0, 0, 0, 0, 0, 1, 0, 1, 1, 0, 0, 1, 0, 0, 0, 0, 1, 0, 0,\n",
       "        1, 0, 0, 0, 0, 1, 1, 1, 0, 0, 0, 0, 1, 1, 0, 1, 0, 0, 0, 1, 0, 0,\n",
       "        0, 0, 1, 0, 1, 0, 1, 0, 1, 0, 0, 0, 1, 0, 0, 1, 0, 1, 1, 1, 0, 1,\n",
       "        0, 0, 0, 0, 1, 0, 1, 0, 0, 0, 0, 1, 0, 1, 1, 1, 0, 0, 0, 0, 0, 1,\n",
       "        0, 0, 0, 1, 1, 1, 0, 1, 1, 0, 0, 1, 0, 0, 0, 0, 0, 0, 0, 1, 1, 1,\n",
       "        0, 1, 0, 0, 1, 1, 1, 1, 1, 0, 1, 0, 0, 0, 0, 0, 0, 0, 0, 0, 1, 1,\n",
       "        0, 1, 0, 1, 1, 0, 0, 0, 1, 0, 0, 0, 0, 0, 0, 0, 1, 1, 1, 0, 0, 0,\n",
       "        1, 0, 1, 0, 0, 1, 0, 1, 0, 1, 0, 0, 0, 0, 0, 0, 0, 0, 1, 0, 0, 0,\n",
       "        0, 0, 0, 0, 0, 1, 0, 1, 1, 1, 0, 0, 1, 0, 1, 0, 0, 0, 1, 1, 0, 0,\n",
       "        0, 1, 0, 1, 0, 0, 0, 0, 0, 0, 0, 0, 1, 1, 1, 1, 0, 1, 0, 1, 0, 1,\n",
       "        1, 1, 1, 1, 1, 0, 0, 1, 0, 0, 0, 0, 0, 0, 0, 1, 1, 1, 0, 1, 0, 1,\n",
       "        0, 0, 0, 1, 0, 0, 0, 1, 1, 0, 0, 0, 1, 0, 0, 0, 0, 0, 0, 0, 0, 0,\n",
       "        0, 0, 1, 1, 1, 1, 1, 1, 1, 1, 0, 1, 1, 1, 1, 1, 0, 1, 1, 0, 1, 1,\n",
       "        1, 0, 1, 1, 1, 1, 1, 1, 1, 1, 1, 1, 0, 1, 1, 1, 1, 1, 0, 1, 1, 1,\n",
       "        0, 1, 1, 1, 1, 1, 1, 1, 1, 1, 1, 1, 1, 1, 1, 1, 1, 1, 1, 1, 1, 1,\n",
       "        1, 1, 1, 1, 1, 1, 0, 1, 1, 1, 1, 1, 1, 1, 1, 1, 1, 1, 1, 1, 1, 1,\n",
       "        1, 1, 1, 1, 1, 1, 1, 1, 1, 1, 1, 1, 1, 1, 1, 1, 1, 1, 1, 1, 1, 1,\n",
       "        1, 1, 1, 1, 1, 1, 1, 1, 1, 1, 1, 1, 0, 1, 1, 0, 0, 1, 0, 1, 1, 0,\n",
       "        1, 1, 1, 1, 0, 1, 1, 0, 0, 1, 1, 1, 0, 1, 1, 1, 1, 1, 1, 1, 1, 1,\n",
       "        1, 1, 1, 0, 1, 0, 1, 1, 1, 0, 1, 1, 1, 0, 1, 0, 1, 0, 1, 0, 1, 1,\n",
       "        1, 1, 0, 1, 0, 1, 1, 1, 1, 1, 1, 1, 1, 1, 0, 1, 0, 1, 1, 1, 1, 1,\n",
       "        1, 1, 0, 1, 1, 1, 1, 1, 1, 0, 1, 1, 1, 0, 1, 1, 0, 1, 0, 1, 1, 0,\n",
       "        1, 1, 1, 1, 0, 1, 1, 1, 0, 0, 1, 0, 1, 1, 1, 1, 1, 1, 1, 1, 1, 1,\n",
       "        1, 0, 1, 1, 1, 1, 0, 0, 1, 1, 1, 0, 1, 0, 1, 1, 0, 1, 0, 1, 1, 1,\n",
       "        0, 0, 0, 1, 1, 1, 0, 1, 1, 1, 1, 1, 1, 1, 1, 1, 1, 1, 1, 1, 1, 1,\n",
       "        1, 0, 1, 1, 1, 0, 1, 1, 0, 0, 1, 1, 1, 1, 0, 1, 1, 0, 1, 1, 1, 0,\n",
       "        0, 1, 1, 1, 1, 1, 0, 1, 0, 1, 1, 1, 0, 0, 0, 1, 1, 1, 1, 0, 0, 0,\n",
       "        1, 0, 0, 1, 1, 0, 0, 1, 0, 0, 0, 0, 0, 0, 0, 1, 0, 1, 0, 0, 1, 1,\n",
       "        1, 1, 1, 0, 0, 1, 0, 0, 0, 1, 0, 1, 1, 1, 1, 1, 0, 0, 0, 0, 0, 1,\n",
       "        0, 1, 1, 0, 1, 0, 0, 0, 1, 0, 1, 0, 1, 1, 0, 0, 0, 0, 1, 0, 0, 0,\n",
       "        0, 1, 1, 1, 0, 0, 0, 0, 0, 1, 0, 1, 1, 1, 1, 1, 0, 1, 0, 0, 0, 1,\n",
       "        0, 1, 1, 1, 0, 1, 1, 0, 1, 0, 1, 0, 0, 0, 1, 0, 1, 1, 1, 1, 0, 0,\n",
       "        0, 1, 0, 0, 1, 1, 1, 0, 1, 0, 0, 0, 1, 0, 0, 1, 0, 1, 0, 1, 1, 1,\n",
       "        1, 0, 0, 0, 0, 0, 0, 0, 0, 0, 1, 1, 1, 0, 1, 0, 0, 0, 0, 0, 1, 0,\n",
       "        1, 1, 0, 0, 1, 1, 1, 0, 0, 1, 1, 0, 0, 0, 1, 0, 0, 1, 0, 1, 0, 1,\n",
       "        0, 0, 0, 0, 0, 1, 0, 1, 1, 1, 1, 0, 0, 0, 1, 0, 1, 0, 0, 1, 0, 0,\n",
       "        0, 0, 0, 0, 1, 1, 0, 1, 0, 0, 1, 1, 0, 0, 1, 1, 0, 1, 0, 0, 1, 0,\n",
       "        0, 1, 0, 0, 1, 0, 1, 1, 0, 1, 1, 1, 0, 1, 0, 0, 0, 0, 1, 1, 0, 0,\n",
       "        1, 1, 0, 1, 0, 0, 0, 0, 1, 0, 0, 1, 1, 1, 0, 0, 0, 1, 0, 1, 0, 1,\n",
       "        0, 1, 1, 0, 0, 0, 1, 0, 1, 1, 1, 0, 1, 1, 1, 1, 1, 1, 0]))"
      ]
     },
     "execution_count": 12,
     "metadata": {},
     "output_type": "execute_result"
    }
   ],
   "source": [
    "x = arr[:,:-1].astype(int)\n",
    "y = arr[:,-1].astype(int)\n",
    "x,y"
   ]
  },
  {
   "cell_type": "code",
   "execution_count": 13,
   "id": "886657d2",
   "metadata": {
    "execution": {
     "iopub.execute_input": "2024-11-06T18:55:13.080686Z",
     "iopub.status.busy": "2024-11-06T18:55:13.080084Z",
     "iopub.status.idle": "2024-11-06T18:55:13.089864Z",
     "shell.execute_reply": "2024-11-06T18:55:13.088733Z"
    },
    "papermill": {
     "duration": 0.019782,
     "end_time": "2024-11-06T18:55:13.092184",
     "exception": false,
     "start_time": "2024-11-06T18:55:13.072402",
     "status": "completed"
    },
    "tags": []
   },
   "outputs": [
    {
     "data": {
      "text/plain": [
       "array([[-1.42815446,  0.515943  , -1.69640215, ..., -0.8229452 ,\n",
       "        -0.74528676, -1.04249607],\n",
       "       [-0.47585532, -1.93819859, -0.52417653, ..., -0.8229452 ,\n",
       "         0.33017519,  0.62216462],\n",
       "       [-1.7455875 ,  0.515943  , -1.69640215, ..., -0.8229452 ,\n",
       "        -0.74528676, -1.04249607],\n",
       "       ...,\n",
       "       [ 0.3706328 ,  0.515943  ,  0.64804909, ...,  1.21514774,\n",
       "         0.33017519,  0.62216462],\n",
       "       [ 0.3706328 , -1.93819859, -1.69640215, ..., -0.8229452 ,\n",
       "        -0.74528676,  0.62216462],\n",
       "       [-1.63977649,  0.515943  , -0.52417653, ..., -0.8229452 ,\n",
       "        -0.74528676, -1.04249607]])"
      ]
     },
     "execution_count": 13,
     "metadata": {},
     "output_type": "execute_result"
    }
   ],
   "source": [
    "from sklearn.preprocessing import StandardScaler\n",
    "scaler = StandardScaler()\n",
    "x = scaler.fit_transform(x)\n",
    "x"
   ]
  },
  {
   "cell_type": "code",
   "execution_count": 14,
   "id": "e89e9bd7",
   "metadata": {
    "execution": {
     "iopub.execute_input": "2024-11-06T18:55:13.107103Z",
     "iopub.status.busy": "2024-11-06T18:55:13.106685Z",
     "iopub.status.idle": "2024-11-06T18:55:13.224972Z",
     "shell.execute_reply": "2024-11-06T18:55:13.223652Z"
    },
    "papermill": {
     "duration": 0.129077,
     "end_time": "2024-11-06T18:55:13.227851",
     "exception": false,
     "start_time": "2024-11-06T18:55:13.098774",
     "status": "completed"
    },
    "tags": []
   },
   "outputs": [],
   "source": [
    "from sklearn.model_selection import train_test_split\n",
    "\n",
    "x_train,x_test,y_train,y_test = train_test_split(x,y,test_size=0.3,random_state=50)"
   ]
  },
  {
   "cell_type": "code",
   "execution_count": 15,
   "id": "20c5323d",
   "metadata": {
    "execution": {
     "iopub.execute_input": "2024-11-06T18:55:13.243425Z",
     "iopub.status.busy": "2024-11-06T18:55:13.242959Z",
     "iopub.status.idle": "2024-11-06T18:55:13.637341Z",
     "shell.execute_reply": "2024-11-06T18:55:13.636066Z"
    },
    "papermill": {
     "duration": 0.405865,
     "end_time": "2024-11-06T18:55:13.640594",
     "exception": false,
     "start_time": "2024-11-06T18:55:13.234729",
     "status": "completed"
    },
    "tags": []
   },
   "outputs": [],
   "source": [
    "from sklearn.svm import SVC\n",
    "from sklearn.linear_model import LogisticRegression\n",
    "from sklearn.ensemble import RandomForestClassifier\n",
    "\n",
    "models = {\"SVM\":SVC(),\"LogisticRegression\":LogisticRegression(),\"RandomForest\":RandomForestClassifier()}"
   ]
  },
  {
   "cell_type": "code",
   "execution_count": null,
   "id": "1cefc358",
   "metadata": {
    "execution": {
     "iopub.execute_input": "2024-11-06T18:55:13.658636Z",
     "iopub.status.busy": "2024-11-06T18:55:13.658174Z",
     "iopub.status.idle": "2024-11-06T18:55:13.929354Z",
     "shell.execute_reply": "2024-11-06T18:55:13.928043Z"
    },
    "papermill": {
     "duration": 0.28346,
     "end_time": "2024-11-06T18:55:13.931856",
     "exception": false,
     "start_time": "2024-11-06T18:55:13.648396",
     "status": "completed"
    },
    "tags": []
   },
   "outputs": [
    {
     "name": "stdout",
     "output_type": "stream",
     "text": [
      "SVM --> 0.8407407407407408\n",
      "LogisticRegression --> 0.837037037037037\n",
      "RandomForest --> 0.8555555555555555\n",
      "Best Model : RandomForest\n"
     ]
    }
   ],
   "source": [
    "# accuracies without pca\n",
    "from sklearn.metrics import accuracy_score\n",
    "\n",
    "accuracy = {}\n",
    "\n",
    "for model_name , model in models.items():\n",
    "    model.fit(x_train,y_train)\n",
    "    y_pred = model.predict(x_test)\n",
    "    acc = accuracy_score(y_test,y_pred)\n",
    "    accuracy[model_name] = acc\n",
    "    print(f\"{model_name} --> {acc}\")\n",
    "\n",
    "print(\"Best Model :\",max(accuracy,key=accuracy.get))"
   ]
  },
  {
   "cell_type": "code",
   "execution_count": null,
   "id": "f3add57e",
   "metadata": {
    "execution": {
     "iopub.execute_input": "2024-11-06T18:55:13.947963Z",
     "iopub.status.busy": "2024-11-06T18:55:13.947540Z",
     "iopub.status.idle": "2024-11-06T18:55:14.262753Z",
     "shell.execute_reply": "2024-11-06T18:55:14.261123Z"
    },
    "papermill": {
     "duration": 0.326382,
     "end_time": "2024-11-06T18:55:14.265456",
     "exception": false,
     "start_time": "2024-11-06T18:55:13.939074",
     "status": "completed"
    },
    "tags": []
   },
   "outputs": [
    {
     "name": "stdout",
     "output_type": "stream",
     "text": [
      "SVM --> 0.2222222222222222\n",
      "LogisticRegression --> 0.16296296296296298\n",
      "RandomForest --> 0.1925925925925926\n",
      "Best Model : SVM\n"
     ]
    }
   ],
   "source": [
    "# accuracies without pca\n",
    "from sklearn.metrics import accuracy_score\n",
    "from sklearn.decomposition import PCA\n",
    "\n",
    "pca = PCA(5)\n",
    "x_train_pca = pca.fit_transform(x_train)\n",
    "x_test_pca = pca.fit_transform(x_test)\n",
    "accuracy_pca = {}\n",
    "\n",
    "for model_name , model in models.items():\n",
    "    model.fit(x_train_pca,y_train)\n",
    "    y_pred = model.predict(x_test_pca)\n",
    "    acc = accuracy_score(y_test,y_pred)\n",
    "    accuracy_pca[model_name] = acc\n",
    "    print(f\"{model_name} --> {acc}\")\n",
    "\n",
    "print(\"Best Model :\",max(accuracy_pca,key=accuracy_pca.get))"
   ]
  }
 ],
 "metadata": {
  "kaggle": {
   "accelerator": "none",
   "dataSources": [
    {
     "datasetId": 1582403,
     "sourceId": 2603715,
     "sourceType": "datasetVersion"
    }
   ],
   "dockerImageVersionId": 30786,
   "isGpuEnabled": false,
   "isInternetEnabled": true,
   "language": "python",
   "sourceType": "notebook"
  },
  "kernelspec": {
   "display_name": "Python 3",
   "language": "python",
   "name": "python3"
  },
  "language_info": {
   "codemirror_mode": {
    "name": "ipython",
    "version": 3
   },
   "file_extension": ".py",
   "mimetype": "text/x-python",
   "name": "python",
   "nbconvert_exporter": "python",
   "pygments_lexer": "ipython3",
   "version": "3.10.14"
  },
  "papermill": {
   "default_parameters": {},
   "duration": 7.496917,
   "end_time": "2024-11-06T18:55:14.994725",
   "environment_variables": {},
   "exception": null,
   "input_path": "__notebook__.ipynb",
   "output_path": "__notebook__.ipynb",
   "parameters": {},
   "start_time": "2024-11-06T18:55:07.497808",
   "version": "2.6.0"
  }
 },
 "nbformat": 4,
 "nbformat_minor": 5
}
